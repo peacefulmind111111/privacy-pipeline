{
 "cells": [
  {
   "cell_type": "markdown",
   "metadata": {},
   "source": [
    "# DP LASSO Experiment\n",
    "Simple demonstration of a differentially private LASSO estimator with standardized output."
   ]
  },
  {
   "cell_type": "code",
   "execution_count": null,
   "metadata": {},
   "outputs": [],
   "source": [
    "import numpy as np\n",
    "from sklearn import datasets, linear_model\n",
    "from experiment_utils import ExperimentResult, save_result\n",
    "import gdrive_utils\n",
    "\n",
    "X, y = datasets.make_regression(n_samples=100, n_features=20, random_state=0)\n",
    "lasso = linear_model.Lasso(alpha=0.1).fit(X, y)\n",
    "baseline_mse = np.mean((lasso.predict(X) - y)**2)\n",
    "\n",
    "# naive DP approach: add Laplace noise to features\n",
    "noisy_X = X + np.random.laplace(scale=1.0, size=X.shape)\n",
    "dp_lasso = linear_model.Lasso(alpha=0.1).fit(noisy_X, y)\n",
    "dp_mse = np.mean((dp_lasso.predict(X) - y)**2)\n",
    "\n",
    "result = ExperimentResult(\n",
    "    experiment_name='dp_lasso_demo',\n",
    "    dataset='synthetic',\n",
    "    model='lasso',\n",
    "    params={'alpha':0.1},\n",
    "    metrics={'baseline_mse':float(baseline_mse), 'dp_mse':float(dp_mse)},\n",
    "    epsilon=1.0,\n",
    "    delta=1e-5\n",
    ")\n",
    "output_path = save_result(result, 'outputs/dp_lasso.json')\n",
    "gdrive_utils.upload_file_to_gdrive(str(output_path), 'GDRIVE_FOLDER_ID')\n",
    "result.to_json()\n"
   ]
  }
 ],
 "metadata": {
  "kernelspec": {
   "display_name": "Python 3",
   "language": "python",
   "name": "python3"
  },
  "language_info": {
   "name": "python",
   "version": "3.11"
  }
 },
 "nbformat": 4,
 "nbformat_minor": 5
}
