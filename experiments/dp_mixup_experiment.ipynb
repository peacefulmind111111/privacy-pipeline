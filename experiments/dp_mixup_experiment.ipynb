{
 "cells": [
  {
   "cell_type": "markdown",
   "metadata": {},
   "source": [
    "# DP Mixup Experiment\n",
    "Demonstrates differentially private mixup training and outputs standardized JSON results."
   ]
  },
  {
   "cell_type": "code",
   "execution_count": null,
   "metadata": {},
   "outputs": [],
   "source": [
    "import torch\n",
    "from torch import nn, optim\n",
    "from torchvision import datasets, transforms\n",
    "from opacus import PrivacyEngine\n",
    "import numpy as np\n",
    "from experiment_utils import ExperimentResult, save_result\n",
    "import gdrive_utils\n",
    "\n",
    "def mixup_data(x, y, alpha=0.4):\n",
    "    lam = np.random.beta(alpha, alpha)\n",
    "    index = torch.randperm(x.size(0))\n",
    "    mixed_x = lam * x + (1 - lam) * x[index, :]\n",
    "    y_a, y_b = y, y[index]\n",
    "    return mixed_x, y_a, y_b, lam\n"
   ]
  },
  {
   "cell_type": "code",
   "execution_count": null,
   "metadata": {},
   "outputs": [],
   "source": [
    "# prepare data/model and run a single training step for demo\n",
    "train_loader = torch.utils.data.DataLoader(\n",
    "    datasets.MNIST('data', download=True, transform=transforms.ToTensor()),\n",
    "    batch_size=64, shuffle=True\n",
    ")\n",
    "model = nn.Sequential(nn.Flatten(), nn.Linear(28*28, 10))\n",
    "optimizer = optim.SGD(model.parameters(), lr=0.1)\n",
    "privacy_engine = PrivacyEngine()\n",
    "model, optimizer, train_loader = privacy_engine.make_private_with_epsilon(\n",
    "    module=model,\n",
    "    optimizer=optimizer,\n",
    "    data_loader=train_loader,\n",
    "    epochs=1,\n",
    "    target_epsilon=1.0,\n",
    "    target_delta=1e-5,\n",
    "    max_grad_norm=1.0,\n",
    ")\n",
    "\n",
    "criterion = nn.CrossEntropyLoss()\n",
    "x, y = next(iter(train_loader))\n",
    "mixed_x, y_a, y_b, lam = mixup_data(x, y)\n",
    "optimizer.zero_grad()\n",
    "pred = model(mixed_x)\n",
    "loss = lam * criterion(pred, y_a) + (1-lam) * criterion(pred, y_b)\n",
    "loss.backward()\n",
    "optimizer.step()\n",
    "\n",
    "epsilon = privacy_engine.get_epsilon(1e-5)\n",
    "result = ExperimentResult(\n",
    "    experiment_name='dp_mixup_demo',\n",
    "    dataset='MNIST',\n",
    "    model='fc',\n",
    "    params={'batch_size':64, 'alpha':0.4},\n",
    "    metrics={'loss':float(loss.item())},\n",
    "    epsilon=epsilon,\n",
    "    delta=1e-5\n",
    ")\n",
    "output_path = save_result(result, 'outputs/dp_mixup.json')\n",
    "gdrive_utils.upload_file_to_gdrive(str(output_path), 'GDRIVE_FOLDER_ID')\n",
    "result.to_json()\n"
   ]
  }
 ],
 "metadata": {
  "kernelspec": {
   "display_name": "Python 3",
   "language": "python",
   "name": "python3"
  },
  "language_info": {
   "name": "python",
   "version": "3.11"
  }
 },
 "nbformat": 4,
 "nbformat_minor": 5
}
