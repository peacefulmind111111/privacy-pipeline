{
  "cells": [
    {
      "cell_type": "code",
      "execution_count": null,
      "id": "937127df",
      "metadata": {},
      "outputs": [],
      "source": [
        "!git clone https://github.com/peacefulmind111111/privacy-pipeline.git\n",
        "%cd privacy-pipeline\n",
        "%cd privacy_pipeline"
      ]
    },
    {
      "cell_type": "code",
      "execution_count": null,
      "id": "64248317",
      "metadata": {},
      "outputs": [],
      "source": [
        "!pip install -r requirements.txt\n"
      ]
    },
    {
      "cell_type": "code",
      "execution_count": null,
      "id": "c02cdbe0",
      "metadata": {},
      "outputs": [],
      "source": [
        "from dataclasses import asdict\n",
        "from privacy_pipeline.config import ExperimentConfig\n",
        "from privacy_pipeline.training import train, train_with_outlier_clipping\n"
      ]
    },
    {
      "cell_type": "code",
      "execution_count": null,
      "id": "b6a1463e",
      "metadata": {},
      "outputs": [],
      "source": [
        "baseline_cfg = ExperimentConfig(\n",
        "    num_epochs=20,\n",
        "    batch_size=512,\n",
        "    lr=0.05,\n",
        "    outer_momentum=0.9,\n",
        "    inner_momentum=0.10,\n",
        "    noise_mult=1.0,\n",
        "    delta=1e-5,\n",
        "    c_start=4.0,\n",
        "    c_end=2.0,\n",
        "    self_aug_factor=3,\n",
        "    schedule_milestones=[12, 18],\n",
        "    schedule_gamma=0.1,\n",
        "    max_momentum_size=10000,\n",
        ")\n",
        "print(asdict(baseline_cfg))\n",
        "train(baseline_cfg, 'outputs/baseline_run')\n"
      ]
    },
    {
      "cell_type": "code",
      "execution_count": null,
      "id": "1d44eba1",
      "metadata": {},
      "outputs": [],
      "source": [
        "outlier_cfg = ExperimentConfig(\n",
        "    seed=0,\n",
        "    batch_size=1000,\n",
        "    lr=0.1,\n",
        "    outer_momentum=0.9,\n",
        "    inner_momentum=0.08,\n",
        "    noise_mult=1.5,\n",
        "    delta=1e-5,\n",
        "    num_epochs=50,\n",
        "    self_aug_factor=3,\n",
        "    default_clip=1.0,\n",
        "    outlier_clip=0.5,\n",
        "    high_err_threshold=0.95,\n",
        "    drop_after_frac=0.6,\n",
        "    schedule_milestones=[30, 45],\n",
        "    schedule_gamma=0.1,\n",
        "    max_momentum_size=10000,\n",
        ")\n",
        "print(asdict(outlier_cfg))\n",
        "train_with_outlier_clipping(outlier_cfg, 'outputs/outlier_run')\n"
      ]
    }
  ],
  "metadata": {
    "kernelspec": {
      "display_name": "Python 3",
      "language": "python",
      "name": "python3"
    },
    "language_info": {
      "name": "python"
    }
  },
  "nbformat": 4,
  "nbformat_minor": 5
}
