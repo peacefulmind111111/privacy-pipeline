{
 "cells": [
  {
   "cell_type": "code",
   "execution_count": null,
   "id": "937127df",
   "metadata": {},
   "outputs": [],
   "source": [
    "!git clone https://github.com/peacefulmind111111/privacy-pipeline.git\n",
    "%cd privacy-pipeline\n",
    "%cd privacy_pipeline"
   ]
  },
  {
   "cell_type": "code",
   "execution_count": null,
   "id": "64248317",
   "metadata": {},
   "outputs": [],
   "source": [
    "!pip install -r requirements.txt\n"
   ]
  },
  {
   "cell_type": "code",
   "execution_count": 2,
   "id": "c02cdbe0",
   "metadata": {},
   "outputs": [],
   "source": [
    "from dataclasses import asdict\n",
    "from privacy_pipeline.config import ExperimentConfig\n",
    "from privacy_pipeline.training import train, train_with_outlier_clipping\n"
   ]
  },
  {
   "cell_type": "code",
   "execution_count": 3,
   "id": "b6a1463e",
   "metadata": {},
   "outputs": [
    {
     "name": "stdout",
     "output_type": "stream",
     "text": [
      "{'seed': 0, 'batch_size': 512, 'lr': 0.05, 'outer_momentum': 0.9, 'inner_momentum': 0.1, 'noise_mult': 1.0, 'delta': 1e-05, 'num_epochs': 20, 'c_start': 4.0, 'c_end': 2.0, 'default_clip': 1.0, 'outlier_clip': 0.5, 'high_err_threshold': 0.95, 'drop_after_frac': 0.6, 'self_aug_factor': 3, 'dataset_mean': (0.4914, 0.4822, 0.4465), 'dataset_std': (0.247, 0.2435, 0.2616), 'schedule_milestones': [12, 18], 'schedule_gamma': 0.1, 'max_momentum_size': 10000, 'device': device(type='cpu')}\n"
     ]
    },
    {
     "name": "stderr",
     "output_type": "stream",
     "text": [
      "100%|██████████| 170M/170M [01:23<00:00, 2.03MB/s] \n",
      "c:\\Users\\justi\\miniconda3\\Lib\\site-packages\\torch\\nn\\modules\\module.py:1842: FutureWarning: Using a non-full backward hook when the forward contains multiple autograd Nodes is deprecated and will be removed in future versions. This hook will be missing some grad_input. Please use register_full_backward_hook to get the documented behavior.\n",
      "  self._maybe_warn_non_full_backward_hook(args, result, grad_fn)\n"
     ]
    },
    {
     "ename": "KeyboardInterrupt",
     "evalue": "",
     "output_type": "error",
     "traceback": [
      "\u001b[1;31m---------------------------------------------------------------------------\u001b[0m",
      "\u001b[1;31mKeyboardInterrupt\u001b[0m                         Traceback (most recent call last)",
      "Cell \u001b[1;32mIn[3], line 17\u001b[0m\n\u001b[0;32m      1\u001b[0m baseline_cfg \u001b[38;5;241m=\u001b[39m ExperimentConfig(\n\u001b[0;32m      2\u001b[0m     num_epochs\u001b[38;5;241m=\u001b[39m\u001b[38;5;241m20\u001b[39m,\n\u001b[0;32m      3\u001b[0m     batch_size\u001b[38;5;241m=\u001b[39m\u001b[38;5;241m512\u001b[39m,\n\u001b[1;32m   (...)\u001b[0m\n\u001b[0;32m     14\u001b[0m     max_momentum_size\u001b[38;5;241m=\u001b[39m\u001b[38;5;241m10000\u001b[39m,\n\u001b[0;32m     15\u001b[0m )\n\u001b[0;32m     16\u001b[0m \u001b[38;5;28mprint\u001b[39m(asdict(baseline_cfg))\n\u001b[1;32m---> 17\u001b[0m \u001b[43mtrain\u001b[49m\u001b[43m(\u001b[49m\u001b[43mbaseline_cfg\u001b[49m\u001b[43m,\u001b[49m\u001b[43m \u001b[49m\u001b[38;5;124;43m'\u001b[39;49m\u001b[38;5;124;43moutputs/baseline_run\u001b[39;49m\u001b[38;5;124;43m'\u001b[39;49m\u001b[43m)\u001b[49m\n",
      "File \u001b[1;32mc:\\Users\\justi\\OneDrive\\Documents\\GitHub\\privacy-pipeline\\privacy_pipeline\\training.py:71\u001b[0m, in \u001b[0;36mtrain\u001b[1;34m(cfg, output_dir, plot_every)\u001b[0m\n\u001b[0;32m     68\u001b[0m clip_val \u001b[38;5;241m=\u001b[39m cfg\u001b[38;5;241m.\u001b[39mc_start \u001b[38;5;241m+\u001b[39m (cfg\u001b[38;5;241m.\u001b[39mc_end \u001b[38;5;241m-\u001b[39m cfg\u001b[38;5;241m.\u001b[39mc_start) \u001b[38;5;241m*\u001b[39m frac\n\u001b[0;32m     70\u001b[0m X, y \u001b[38;5;241m=\u001b[39m X\u001b[38;5;241m.\u001b[39mto(device), y\u001b[38;5;241m.\u001b[39mto(device)\n\u001b[1;32m---> 71\u001b[0m batch_v, unique_count \u001b[38;5;241m=\u001b[39m \u001b[43mcompute_per_id_momentum\u001b[49m\u001b[43m(\u001b[49m\n\u001b[0;32m     72\u001b[0m \u001b[43m    \u001b[49m\u001b[43mdp_net\u001b[49m\u001b[43m,\u001b[49m\u001b[43m \u001b[49m\u001b[43mX\u001b[49m\u001b[43m,\u001b[49m\u001b[43m \u001b[49m\u001b[43my\u001b[49m\u001b[43m,\u001b[49m\u001b[43m \u001b[49m\u001b[43midxs\u001b[49m\u001b[43m,\u001b[49m\u001b[43m \u001b[49m\u001b[43mmomentum_dict\u001b[49m\u001b[43m,\u001b[49m\u001b[43m \u001b[49m\u001b[43mcfg\u001b[49m\u001b[38;5;241;43m.\u001b[39;49m\u001b[43minner_momentum\u001b[49m\u001b[43m,\u001b[49m\u001b[43m \u001b[49m\u001b[43mdevice\u001b[49m\n\u001b[0;32m     73\u001b[0m \u001b[43m\u001b[49m\u001b[43m)\u001b[49m\n\u001b[0;32m     74\u001b[0m preclip_vecs \u001b[38;5;241m=\u001b[39m [g \u001b[38;5;28;01mfor\u001b[39;00m (_, g) \u001b[38;5;129;01min\u001b[39;00m batch_v]\n\u001b[0;32m     75\u001b[0m pre_l1, pre_l2, pre_cos \u001b[38;5;241m=\u001b[39m measure_distribution(preclip_vecs)\n",
      "File \u001b[1;32mc:\\Users\\justi\\OneDrive\\Documents\\GitHub\\privacy-pipeline\\privacy_pipeline\\momentum.py:57\u001b[0m, in \u001b[0;36mcompute_per_id_momentum\u001b[1;34m(dp_model, X, y, idxs, momentum_dict, inner_momentum, device, base_size)\u001b[0m\n\u001b[0;32m     55\u001b[0m             param_vecs[i] \u001b[38;5;241m=\u001b[39m gs_flat[i]\n\u001b[0;32m     56\u001b[0m         \u001b[38;5;28;01melse\u001b[39;00m:\n\u001b[1;32m---> 57\u001b[0m             param_vecs[i] \u001b[38;5;241m=\u001b[39m \u001b[43mtorch\u001b[49m\u001b[38;5;241;43m.\u001b[39;49m\u001b[43mcat\u001b[49m\u001b[43m(\u001b[49m\u001b[43m[\u001b[49m\u001b[43mparam_vecs\u001b[49m\u001b[43m[\u001b[49m\u001b[43mi\u001b[49m\u001b[43m]\u001b[49m\u001b[43m,\u001b[49m\u001b[43m \u001b[49m\u001b[43mgs_flat\u001b[49m\u001b[43m[\u001b[49m\u001b[43mi\u001b[49m\u001b[43m]\u001b[49m\u001b[43m]\u001b[49m\u001b[43m,\u001b[49m\u001b[43m \u001b[49m\u001b[43mdim\u001b[49m\u001b[38;5;241;43m=\u001b[39;49m\u001b[38;5;241;43m0\u001b[39;49m\u001b[43m)\u001b[49m\n\u001b[0;32m     58\u001b[0m     p\u001b[38;5;241m.\u001b[39mgrad_sample \u001b[38;5;241m=\u001b[39m \u001b[38;5;28;01mNone\u001b[39;00m\n\u001b[0;32m     60\u001b[0m group_dict: Dict[\u001b[38;5;28mint\u001b[39m, List[torch\u001b[38;5;241m.\u001b[39mTensor]] \u001b[38;5;241m=\u001b[39m {}\n",
      "\u001b[1;31mKeyboardInterrupt\u001b[0m: "
     ]
    }
   ],
   "source": [
    "baseline_cfg = ExperimentConfig(\n",
    "    num_epochs=20,\n",
    "    batch_size=512,\n",
    "    lr=0.05,\n",
    "    outer_momentum=0.9,\n",
    "    inner_momentum=0.10,\n",
    "    noise_mult=1.0,\n",
    "    delta=1e-5,\n",
    "    c_start=4.0,\n",
    "    c_end=2.0,\n",
    "    self_aug_factor=3,\n",
    "    schedule_milestones=[12, 18],\n",
    "    schedule_gamma=0.1,\n",
    "    max_momentum_size=10000,\n",
    ")\n",
    "print(asdict(baseline_cfg))\n",
    "train(baseline_cfg, 'outputs/baseline_run')\n"
   ]
  },
  {
   "cell_type": "code",
   "execution_count": null,
   "id": "1d44eba1",
   "metadata": {},
   "outputs": [],
   "source": [
    "outlier_cfg = ExperimentConfig(\n",
    "    seed=0,\n",
    "    batch_size=1000,\n",
    "    lr=0.1,\n",
    "    outer_momentum=0.9,\n",
    "    inner_momentum=0.08,\n",
    "    noise_mult=1.5,\n",
    "    delta=1e-5,\n",
    "    num_epochs=50,\n",
    "    self_aug_factor=3,\n",
    "    default_clip=1.0,\n",
    "    outlier_clip=0.5,\n",
    "    high_err_threshold=0.95,\n",
    "    drop_after_frac=0.6,\n",
    "    schedule_milestones=[30, 45],\n",
    "    schedule_gamma=0.1,\n",
    "    max_momentum_size=10000,\n",
    ")\n",
    "print(asdict(outlier_cfg))\n",
    "train_with_outlier_clipping(outlier_cfg, 'outputs/outlier_run')\n"
   ]
  },
  {
   "cell_type": "code",
   "execution_count": null,
   "id": "6e958206",
   "metadata": {},
   "outputs": [],
   "source": [
    "# Virtual sample projection experiment\n",
    "from run_experiment import run_experiment, get_default_params\n",
    "\n",
    "vp_params = get_default_params('dp_virtual_projection')\n",
    "# vp_params['num_epochs'] = 5  # example override\n",
    "vp_results = run_experiment('dp_virtual_projection', params=vp_params, output='outputs/dp_virtual_projection.json')\n",
    "vp_results"
   ]
  },
  {
   "cell_type": "code",
   "execution_count": null,
   "id": "d2e2ee7c",
   "metadata": {},
   "outputs": [],
   "source": [
    "# Local DP-SGD experiment (private + public)\n",
    "from run_experiment import run_experiment, get_default_params\n",
    "\n",
    "ld_params = get_default_params('local_dpsgd')\n",
    "ld_params['EXPERIMENT'] = 'local_pub'\n",
    "# ld_params['NUM_EPOCHS'] = 5  # example override\n",
    "ld_results = run_experiment('local_dpsgd', params=ld_params, output='outputs/local_dpsgd.json')\n",
    "ld_results"
   ]
  }
 ],
 "metadata": {
  "kernelspec": {
   "display_name": "base",
   "language": "python",
   "name": "python3"
  },
  "language_info": {
   "codemirror_mode": {
    "name": "ipython",
    "version": 3
   },
   "file_extension": ".py",
   "mimetype": "text/x-python",
   "name": "python",
   "nbconvert_exporter": "python",
   "pygments_lexer": "ipython3",
   "version": "3.12.11"
  }
 },
 "nbformat": 4,
 "nbformat_minor": 5
}
