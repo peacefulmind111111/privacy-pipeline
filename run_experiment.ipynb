{
 "cells": [
  {
   "cell_type": "code",
   "execution_count": null,
   "id": "1684d471",
   "metadata": {},
   "outputs": [],
   "source": [
    "from dataclasses import asdict\n",
    "from dp_virtual_projection_population_only import ExperimentConfig as VProjConfig, train as vp_train\n",
    "from local_dpsgd_experiment import ExperimentConfig as LDConfig, train as ld_train\n",
    "from experiment_utils import clear_memory\n",
    "\n",
    "from privacy_pipeline.config import ExperimentConfig as BaseConfig\n",
    "from privacy_pipeline.training import train as base_train, train_with_outlier_clipping"
   ]
  },
  {
   "cell_type": "code",
   "execution_count": null,
   "id": "e8383e82",
   "metadata": {},
   "outputs": [],
   "source": [
    "# Baseline DP-SGD experiment\n",
    "# Based on: https://proceedings.neurips.cc/paper_files/paper/2015/file/52d080a3e172c33fd6886a37e7288491-Paper.pdf\n",
    "baseline_cfg = BaseConfig(\n",
    "    num_epochs=1,\n",
    "    batch_size=512,\n",
    "    lr=0.05,\n",
    "    outer_momentum=0.9,\n",
    "    inner_momentum=0.10,\n",
    "    noise_mult=1.0,\n",
    "    delta=1e-5,\n",
    "    c_start=4.0,\n",
    "    c_end=2.0,\n",
    "    self_aug_factor=1,\n",
    "    schedule_milestones=[12, 18],\n",
    "    schedule_gamma=0.1,\n",
    "    max_momentum_size=10000,\n",
    ")\n",
    "print(asdict(baseline_cfg))\n",
    "baseline_results = base_train(baseline_cfg, 'outputs/baseline_run')\n",
    "clear_memory()\n",
    "baseline_results"
   ]
  },
  {
   "cell_type": "code",
   "execution_count": null,
   "id": "167f90ef",
   "metadata": {},
   "outputs": [],
   "source": [
    "# Synthetic data mixing experiment\n",
    "# Based on: https://arxiv.org/pdf/2311.01295\n",
    "outlier_cfg = BaseConfig(\n",
    "    seed=0,\n",
    "    batch_size=1000,\n",
    "    lr=0.1,\n",
    "    outer_momentum=0.9,\n",
    "    inner_momentum=0.08,\n",
    "    noise_mult=1.5,\n",
    "    delta=1e-5,\n",
    "    num_epochs=1,\n",
    "    self_aug_factor=3,\n",
    ")\n",
    "print(asdict(outlier_cfg))\n",
    "outlier_results = train_with_outlier_clipping(outlier_cfg, 'outputs/outlier_run')\n",
    "clear_memory()\n",
    "outlier_results"
   ]
  },
  {
   "cell_type": "code",
   "execution_count": null,
   "id": "919a9957",
   "metadata": {},
   "outputs": [],
   "source": [
    "# Synthetic data projection experiment\n",
    "# Based on: https://arxiv.org/pdf/2506.16661\n",
    "vp_cfg = VProjConfig(\n",
    "    num_epochs=1,\n",
    "    batch_size=512,\n",
    "    lr=0.05,\n",
    "    outer_momentum=0.9,\n",
    "    inner_momentum=0.10,\n",
    "    noise_mult=1.0,\n",
    "    delta=1e-5,\n",
    "    c_start=4.0,\n",
    "    c_end=2.0,\n",
    "    self_aug_factor=1,\n",
    "    schedule_milestones=[12, 18],\n",
    "    schedule_gamma=0.1,\n",
    "    max_momentum_size=10000,\n",
    ")\n",
    "print(asdict(vp_cfg))\n",
    "vp_results = vp_train(vp_cfg, 'outputs/vproj_run')\n",
    "clear_memory()\n",
    "vp_results\n"
   ]
  },
  {
   "cell_type": "code",
   "execution_count": null,
   "id": "893e2fd1",
   "metadata": {},
   "outputs": [],
   "source": [
    "# Local DP-SGD/Scaffold experiment\n",
    "# Based on: https://arxiv.org/pdf/2306.16504\n",
    "ld_cfg = LDConfig(\n",
    "    EXPERIMENT='local_pub',\n",
    "    PRIV_BATCH=512,\n",
    "    NUM_EPOCHS=1,\n",
    "    LR_OUTER=0.05,\n",
    "    MOMENTUM_OUTER=0.9,\n",
    ")\n",
    "print(asdict(ld_cfg))\n",
    "ld_results = ld_train(ld_cfg, 'outputs/localdp_run')\n",
    "clear_memory()\n",
    "ld_results\n"
   ]
  }
 ],
 "metadata": {
  "kernelspec": {
   "display_name": "Python 3",
   "language": "python",
   "name": "python3"
  },
  "language_info": {
   "name": "python",
   "version": "3.x"
  }
 },
 "nbformat": 4,
 "nbformat_minor": 5
}
