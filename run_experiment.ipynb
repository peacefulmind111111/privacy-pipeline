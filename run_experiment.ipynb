{
  "cells": [
    {
      "cell_type": "code",
      "execution_count": null,
      "metadata": {},
      "outputs": [],
      "source": [
        "from dataclasses import asdict\n",
        "from dp_virtual_projection_population_only import ExperimentConfig as VProjConfig, train as vp_train\n",
        "from local_dpsgd_experiment import ExperimentConfig as LDConfig, train as ld_train\n",
        "from experiment_utils import clear_memory\n"
      ]
    },
    {
      "cell_type": "code",
      "execution_count": null,
      "metadata": {},
      "outputs": [],
      "source": [
        "# Virtual projection experiment\n",
        "vp_cfg = VProjConfig(\n",
        "    num_epochs=1,\n",
        "    batch_size=512,\n",
        "    lr=0.05,\n",
        "    outer_momentum=0.9,\n",
        "    inner_momentum=0.10,\n",
        "    noise_mult=1.0,\n",
        "    delta=1e-5,\n",
        "    c_start=4.0,\n",
        "    c_end=2.0,\n",
        "    self_aug_factor=1,\n",
        "    schedule_milestones=[12, 18],\n",
        "    schedule_gamma=0.1,\n",
        "    max_momentum_size=10000,\n",
        ")\n",
        "print(asdict(vp_cfg))\n",
        "vp_results = vp_train(vp_cfg, 'outputs')\n",
        "clear_memory()\n",
        "vp_results\n"
      ]
    },
    {
      "cell_type": "code",
      "execution_count": null,
      "metadata": {},
      "outputs": [],
      "source": [
        "# Local DP-SGD experiment\n",
        "ld_cfg = LDConfig(\n",
        "    EXPERIMENT='local_pub',\n",
        "    PRIV_BATCH=512,\n",
        "    NUM_EPOCHS=1,\n",
        "    LR_OUTER=0.05,\n",
        "    MOMENTUM_OUTER=0.9,\n",
        ")\n",
        "print(asdict(ld_cfg))\n",
        "ld_results = ld_train(ld_cfg, 'outputs')\n",
        "clear_memory()\n",
        "ld_results\n"
      ]
    }
  ],
  "metadata": {
    "kernelspec": {
      "display_name": "Python 3",
      "language": "python",
      "name": "python3"
    },
    "language_info": {
      "name": "python",
      "version": "3.x"
    }
  },
  "nbformat": 4,
  "nbformat_minor": 5
}