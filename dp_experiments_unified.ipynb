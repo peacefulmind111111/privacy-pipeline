{
 "cells": [
  {
   "cell_type": "markdown",
   "id": "31791647",
   "metadata": {},
   "source": [
    "# DP Experiments Unified Notebook\n",
    "\n",
    "This notebook demonstrates a unified pipeline for conducting various differentially private machine learning experiments on CIFAR‑10 using a ResNet‑20 architecture.  It leverages the `dp_pipeline` module to standardize training, evaluation, and result serialization.  Each experiment produces a comprehensive JSON report that can be consumed by downstream analytics tools.  The experiments covered include:\n",
    "\n",
    "* **Clipping tradeoff:** Varying the gradient clipping norm to study its effect on model utility.\n",
    "* **Clipping budget:** Exploring different noise multipliers to understand privacy‑utility tradeoffs.\n",
    "* **DP mixup:** Training with mixup augmentation under differential privacy.\n",
    "* **DP LASSO:** Running a private LASSO regression on a tabular dataset.\n",
    "\n",
    "All results are written to a new folder (`dp_experiment_outputs`) which can be uploaded to your Google Drive manually.  Feel free to extend or modify the experiment list as needed."
   ]
  },
  {
   "cell_type": "code",
   "execution_count": 34,
   "id": "513d0bbd",
   "metadata": {},
   "outputs": [],
   "source": [
    "# Import unified DP pipeline utilities\n",
    "from dp_pipeline import (\n",
    "    ExperimentConfig,\n",
    "    get_cifar10_dataloaders,\n",
    "    train_dp_sgd,\n",
    "    train_dp_mixup,\n",
    "    dp_lasso,\n",
    "    save_results_json\n",
    ")\n",
    "import os\n",
    "\n",
    "# Set up output directory\n",
    "OUTPUT_DIR = 'dp_experiment_outputs'\n",
    "os.makedirs(OUTPUT_DIR, exist_ok=True)"
   ]
  },
  {
   "cell_type": "code",
   "execution_count": 39,
   "id": "82e1e5c5",
   "metadata": {},
   "outputs": [
    {
     "name": "stdout",
     "output_type": "stream",
     "text": [
      "Error loading CIFAR‑10: PyTorch and torchvision must be installed to load CIFAR‑10.\n"
     ]
    }
   ],
   "source": [
    "# Load CIFAR‑10 data loaders once to reuse across experiments.\n",
    "# Depending on your environment, the dataset may need to be pre‑downloaded.\n",
    "try:\n",
    "    train_loader, test_loader = get_cifar10_dataloaders(batch_size=128)\n",
    "except Exception as e:\n",
    "    print('Error loading CIFAR‑10:', e)\n",
    "    train_loader = test_loader = None"
   ]
  },
  {
   "cell_type": "code",
   "execution_count": 36,
   "id": "e14caae1",
   "metadata": {},
   "outputs": [],
   "source": [
    "# Define a list of experiment configurations.\n",
    "# Each entry specifies parameters unique to an experiment; other settings remain default.\n",
    "experiments = [\n",
    "    {\n",
    "        'name': 'clip_norm_0.5',\n",
    "        'config': ExperimentConfig(experiment_name='clip_norm_0.5', method='dp_sgd', clip_norm=0.5, noise_multiplier=1.0, epochs=5)\n",
    "    },\n",
    "    {\n",
    "        'name': 'clip_norm_1.0',\n",
    "        'config': ExperimentConfig(experiment_name='clip_norm_1.0', method='dp_sgd', clip_norm=1.0, noise_multiplier=1.0, epochs=5)\n",
    "    },\n",
    "    {\n",
    "        'name': 'noise_multiplier_1.0',\n",
    "        'config': ExperimentConfig(experiment_name='noise_multiplier_1.0', method='dp_sgd', clip_norm=1.0, noise_multiplier=1.0, epochs=5)\n",
    "    },\n",
    "    {\n",
    "        'name': 'noise_multiplier_2.0',\n",
    "        'config': ExperimentConfig(experiment_name='noise_multiplier_2.0', method='dp_sgd', clip_norm=1.0, noise_multiplier=2.0, epochs=5)\n",
    "    },\n",
    "    {\n",
    "        'name': 'dp_mixup_alpha_0.4',\n",
    "        'config': ExperimentConfig(experiment_name='dp_mixup_alpha_0.4', method='dp_mixup', clip_norm=1.0, noise_multiplier=1.0, epochs=5, mixup_alpha=0.4)\n",
    "    }\n",
    "]"
   ]
  },
  {
   "cell_type": "code",
   "execution_count": 37,
   "id": "ea68940d",
   "metadata": {},
   "outputs": [
    {
     "name": "stdout",
     "output_type": "stream",
     "text": [
      "Skipping clip_norm_0.5 because CIFAR data is unavailable\n",
      "Skipping clip_norm_1.0 because CIFAR data is unavailable\n",
      "Skipping noise_multiplier_1.0 because CIFAR data is unavailable\n",
      "Skipping noise_multiplier_2.0 because CIFAR data is unavailable\n",
      "Skipping dp_mixup_alpha_0.4 because CIFAR data is unavailable\n"
     ]
    }
   ],
   "source": [
    "# Run DP‑SGD and DP‑mixup experiments.\n",
    "# This loop will iterate over the experiment list, train a model for each,\n",
    "# and save the results to JSON.  Runtime may be significant if executed end‑to‑end.\n",
    "for exp in experiments:\n",
    "    cfg = exp['config']\n",
    "    if cfg.method == 'dp_sgd':\n",
    "        if train_loader is not None:\n",
    "            results = train_dp_sgd(cfg, train_loader, test_loader)\n",
    "            json_path = save_results_json(results, OUTPUT_DIR)\n",
    "            print(f'Saved results for {cfg.experiment_name} to {json_path}')\n",
    "        else:\n",
    "            print(f'Skipping {cfg.experiment_name} because CIFAR data is unavailable')\n",
    "    elif cfg.method == 'dp_mixup':\n",
    "        if train_loader is not None:\n",
    "            results = train_dp_mixup(cfg, train_loader, test_loader)\n",
    "            json_path = save_results_json(results, OUTPUT_DIR)\n",
    "            print(f'Saved results for {cfg.experiment_name} to {json_path}')\n",
    "        else:\n",
    "            print(f'Skipping {cfg.experiment_name} because CIFAR data is unavailable')\n",
    "    else:\n",
    "        print(f'Unsupported method: {cfg.method}')"
   ]
  },
  {
   "cell_type": "code",
   "execution_count": 38,
   "id": "8427b50a",
   "metadata": {},
   "outputs": [
    {
     "ename": "ModuleNotFoundError",
     "evalue": "No module named 'sklearn'",
     "output_type": "error",
     "traceback": [
      "\u001b[1;31m---------------------------------------------------------------------------\u001b[0m",
      "\u001b[1;31mModuleNotFoundError\u001b[0m                       Traceback (most recent call last)",
      "Cell \u001b[1;32mIn[38], line 3\u001b[0m\n\u001b[0;32m      1\u001b[0m \u001b[38;5;66;03m# DP LASSO experiment on a tabular dataset.\u001b[39;00m\n\u001b[0;32m      2\u001b[0m \u001b[38;5;66;03m# We use the diabetes dataset from scikit‑learn for demonstration.\u001b[39;00m\n\u001b[1;32m----> 3\u001b[0m \u001b[38;5;28;01mfrom\u001b[39;00m \u001b[38;5;21;01msklearn\u001b[39;00m\u001b[38;5;21;01m.\u001b[39;00m\u001b[38;5;21;01mdatasets\u001b[39;00m \u001b[38;5;28;01mimport\u001b[39;00m load_diabetes\n\u001b[0;32m      4\u001b[0m data \u001b[38;5;241m=\u001b[39m load_diabetes()\n\u001b[0;32m      5\u001b[0m X, y \u001b[38;5;241m=\u001b[39m data\u001b[38;5;241m.\u001b[39mdata, data\u001b[38;5;241m.\u001b[39mtarget\n",
      "\u001b[1;31mModuleNotFoundError\u001b[0m: No module named 'sklearn'"
     ]
    }
   ],
   "source": [
    "# DP LASSO experiment on a tabular dataset.\n",
    "# We use the diabetes dataset from scikit‑learn for demonstration.\n",
    "from sklearn.datasets import load_diabetes\n",
    "data = load_diabetes()\n",
    "X, y = data.data, data.target\n",
    "from sklearn.model_selection import train_test_split\n",
    "X_train, X_test, y_train, y_test = train_test_split(X, y, test_size=0.2, random_state=42)\n",
    "\n",
    "lasso_cfg = ExperimentConfig(\n",
    "    experiment_name='dp_lasso_alpha_0.01',\n",
    "    method='dp_lasso',\n",
    "    noise_multiplier=1.0,\n",
    "    lasso_alpha=0.01\n",
    ")\n",
    "\n",
    "try:\n",
    "    results = dp_lasso(lasso_cfg, X_train, y_train, X_test, y_test)\n",
    "    json_path = save_results_json(results, OUTPUT_DIR)\n",
    "    print(f'Saved LASSO results to {json_path}')\n",
    "except Exception as e:\n",
    "    print('DP LASSO experiment failed:', e)"
   ]
  }
 ],
 "metadata": {
  "kernelspec": {
   "display_name": "base",
   "language": "python",
   "name": "python3"
  },
  "language_info": {
   "codemirror_mode": {
    "name": "ipython",
    "version": 3
   },
   "file_extension": ".py",
   "mimetype": "text/x-python",
   "name": "python",
   "nbconvert_exporter": "python",
   "pygments_lexer": "ipython3",
   "version": "3.12.11"
  }
 },
 "nbformat": 4,
 "nbformat_minor": 5
}
